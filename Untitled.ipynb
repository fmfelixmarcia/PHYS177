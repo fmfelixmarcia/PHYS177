{
 "cells": [
  {
   "cell_type": "markdown",
   "metadata": {},
   "source": [
    "\n",
    "Homework 1: Setup & Rounding Error\n",
    "Physics 177, Spring 2017 (Prof. Tanedo)\n",
    "Due: Tuesday, April 18\n",
    "Felix Marcia\n",
    "\n",
    "1. Getting Set Up\n",
    "Important: send an e-mail to Prof. Tanedo and Corey Kownacki (TA). The subject of the e-mail should be P177: Homework 1 and you should clearly indicate your GitHub username and the URL to your GitHub account.\n",
    "2. Cloning this notebook\n",
    "Homework, like this one, will be posted to the course GitHub:\n",
    "https://github.com/orgs/Physics177-2017/\n",
    "For those already familiar with GitHub, you can go ahead and fork a copy of this notebook. The instructions below are the \"round-about\" way of doing things.\n",
    "Download (\"clone\") this notebook to your own computer.\n",
    "Open your local copy of this notebook.\n",
    "Go to the top cell of this notebook and replace \"Your Name\" with your actual name. Remark: the anime film Your Name was recently released in US theaters. As of this writing, it has a 79% score on Metacritic.\n",
    "Save this notebook\n",
    "Create a new repository on GitHub called P177_Homework01. Initialize it with a README.md file, where you can briefly explain that this is Homework 1. Feel free to add any other comments in the README that you think are appropriate.\n",
    "Upload your local copy of this notebook to this repository. Be sure to write a brief note under Commit changes. Say something like \"initial upload.\"\n",
    "Make sure that the copy of your homework in your repository actually has your name on top. If not, troubleshoot.\n",
    "3. Markdown Practice\n",
    "For this problem, I'd like you create a markdown cell just below this one and explore the markdown syntax. Use Insert > Insert Cell Below from this cell.\n",
    "Here's one useful reference: https://github.com/adam-p/markdown-here/wiki/Markdown-Cheatsheet\n",
    "I'd like you to include the following in this new cell:\n",
    "Create a subheading (using two hashtags)\n",
    "Create a list\n",
    "Use boldface and italics\n",
    "Your favorite equation, written in $\\LaTeX$\n",
    "Embed a YouTube trailer of the film Your Name. For this you may want to refer to http://stackoverflow.com/a/27315283.\n",
    "4. Simpson's Rule\n",
    "In class we built a simple Riemann sum integrator. The code that we wrote together is posted here: https://github.com/Physics177-2017/Lec03-Rounding-Error\n",
    "In this problem, please perform the same analysis on the same test function using Simpson's rule.\n",
    "What's that? Well, you'll have to read a little about it. You can find a discussion in section 5.1.2 of the course textbook (Newman, Computational Physics, 2nd ed.). For those who do not have a copy, you can find a discussion in Chapter 3 of Stickler's Basic concepts in computational physics, which is available electronically through the UCR library here: http://scotty.ucr.edu/record=b5077839~S5 (click on \"Connect to: SpringerLink\")\n",
    "Create a cell below this one and do the following:\n",
    "Create an \"integrator\" function that takes in a function and a spacing, $\\Delta x$, and outputs the integral of that function from 0 .to 1 using Simpson's rule.\n",
    "Use the same test function that we did in lecture: $$f(x) = 3.0\\times 10^{-10} x^2.$$\n",
    "Find the error on your algorithm (compared to the exact result) for $\\Delta x$ of $10^{-1}, \\cdots, 10^{-7}$.\n",
    "Compare this to the errors that we found using the Riemann sum. Are they better? Worse? What happens as we approach the \"$10^{-16}$\" numerical precision?\n",
    "5. Thinking about rounding errors\n",
    "In your own words, explain what's happening in the following cell:\n",
    "In [8]:\n",
    "0.1+0.1+0.1 == .3\n",
    "Out[8]:\n",
    "False\n",
    "In a new cell below this one, explain why the above result is not suprising. What happens if you sum $0.1+0.1$ and compare it to $0.2$? Explain this.\n",
    "X1. [Extra Credit]\n",
    "INSPIRE is a database of papers in high-energy physics, you can find it here: http://inspirehep.net\n",
    "Write a script in Jupyter that takes a string and opens up a web browser with an INSPIRE search for that string.\n",
    "In [ ]:\n"
   ]
  },
  {
   "cell_type": "code",
   "execution_count": null,
   "metadata": {
    "collapsed": true
   },
   "outputs": [],
   "source": []
  }
 ],
 "metadata": {
  "kernelspec": {
   "display_name": "Python 3",
   "language": "python",
   "name": "python3"
  },
  "language_info": {
   "codemirror_mode": {
    "name": "ipython",
    "version": 3
   },
   "file_extension": ".py",
   "mimetype": "text/x-python",
   "name": "python",
   "nbconvert_exporter": "python",
   "pygments_lexer": "ipython3",
   "version": "3.6.0"
  }
 },
 "nbformat": 4,
 "nbformat_minor": 2
}
