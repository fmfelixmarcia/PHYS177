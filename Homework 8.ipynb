{
 "cells": [
  {
   "cell_type": "markdown",
   "metadata": {},
   "source": [
    "# Homework 8: Magnetization, Energy in the Ising Model\n",
    "\n",
    "Physics 177, Spring 2017 (Prof. Tanedo)  \n",
    "Due: Friday, June 16    \n",
    "\n",
    "Felix Marcia"
   ]
  },
  {
   "cell_type": "markdown",
   "metadata": {},
   "source": [
    "# Problem 0\n",
    "\n",
    "Please be sure to fill out:\n",
    "1. The course survey (e-mailed directly to you; e-mail Prof. Tanedo if you have not received this!)\n",
    "2. iEval course evaluation (http://ieval.ucr.edu)\n",
    "3. Sign up for a \"final interview\": https://doodle.com/poll/xyb7dgcupq9gwaqm"
   ]
  },
  {
   "cell_type": "markdown",
   "metadata": {},
   "source": [
    "# Problem 1"
   ]
  },
  {
   "cell_type": "markdown",
   "metadata": {
    "collapsed": true
   },
   "source": [
    "Code the Ising model to study the phase transition at $T_c\\approx 2.27$ (in units where $J = k_B = 1$). Use the Metropolis algorithm for Markov Chain Monte Carlo, as we set up in Lecture 18: https://github.com/Physics177-2017/Lec18-Ising-Model/blob/master/Lec18-IsingModel.ipynb\n",
    "\n",
    "**Make the following plots:**\n",
    "1. Magnetization as a function of temperature\n",
    "2. Energy as a function of temperature\n",
    "\n",
    "You may define magnetization as the total spin of the system (sum of the spins of each node). You may define the energy as the sum of $\\Delta E_i$ for each spin $i$. Recall that \n",
    "\n",
    "$$\\Delta E_i = -\\sum_{j} s_is_j$$\n",
    "\n",
    "(Note: actually, you should define $E = \\sum_i \\Delta E_i/4$, but we don't care about the overall pre-factors, we just want to see the qualitative shapes of the plots.)\n",
    "\n",
    "**Guidelines**\n",
    "You should be able to get reasonable results for:\n",
    "* A $20\\times 20$ array.\n",
    "* Sampling 1000 temperature points between $T=1$ and $T=4$\n",
    "* Allowing 2000 Monte Carlo steps to draw a sample.\n",
    "\n",
    "*Pro-tip:* One way to improve your calculations is to let your Monte Carlo \"equilibrate\" before recording data. In other words, your Markov Chain algorithm should be:\n",
    "\n",
    "1. Pick a random configuration\n",
    "2. Run for 2000 steps (without recording data)\n",
    "3. Perform your Markov Chain algorithm as usual, using the configuration at the end of step 2 as your initial configuration.\n",
    "\n",
    "\n",
    "Code this up on your own, you may use the code from Lecture 18 as a starting point. \n",
    "\n",
    "The *answers* are available in a notebook written by Rajesh Singh:\n",
    "http://rajeshrinet.github.io/blog/2014/ising-model/\n",
    "... you may use that notebook (in particular, the plots) as a guideline for what your code should produce. "
   ]
  },
  {
   "cell_type": "code",
   "execution_count": 13,
   "metadata": {
    "collapsed": true
   },
   "outputs": [],
   "source": [
    "import numpy as np\n",
    "import matplotlib.pyplot as plt\n",
    "from random import * # clunky, but allows random() and randint(a,b)\n",
    "\n",
    "N = 20\n",
    "N_trials = 20"
   ]
  },
  {
   "cell_type": "code",
   "execution_count": 14,
   "metadata": {
    "collapsed": false
   },
   "outputs": [
    {
     "name": "stdout",
     "output_type": "stream",
     "text": [
      "[[ 1 -1 -1 -1 -1 -1 -1  1 -1 -1  1  1 -1  1  1  1 -1  1  1  1]\n",
      " [ 1 -1  1 -1 -1 -1  1  1 -1 -1  1 -1 -1 -1  1  1  1  1  1  1]\n",
      " [-1  1 -1  1 -1  1 -1 -1  1  1 -1 -1  1 -1 -1  1 -1 -1  1  1]\n",
      " [ 1  1  1 -1  1  1  1  1 -1 -1 -1 -1 -1  1 -1 -1 -1  1  1 -1]\n",
      " [-1 -1  1  1 -1 -1 -1 -1  1 -1 -1 -1 -1  1  1 -1 -1 -1 -1 -1]\n",
      " [-1 -1 -1  1 -1  1  1 -1 -1  1 -1 -1  1  1  1  1  1  1 -1 -1]\n",
      " [ 1 -1  1  1  1  1  1 -1  1 -1 -1  1 -1 -1 -1  1 -1 -1  1  1]\n",
      " [-1  1  1 -1  1  1 -1  1 -1  1  1  1  1 -1  1  1  1 -1 -1 -1]\n",
      " [-1 -1 -1 -1  1  1 -1  1 -1  1  1  1 -1 -1 -1 -1  1  1 -1  1]\n",
      " [ 1  1 -1  1 -1  1 -1  1  1 -1  1 -1 -1 -1 -1 -1  1 -1  1  1]\n",
      " [ 1  1 -1  1 -1 -1  1  1 -1  1 -1 -1  1  1 -1  1 -1 -1 -1  1]\n",
      " [ 1 -1  1  1  1  1 -1 -1 -1  1 -1 -1 -1  1 -1 -1 -1 -1 -1  1]\n",
      " [-1  1 -1  1 -1 -1 -1  1 -1 -1  1  1  1 -1  1 -1  1  1 -1  1]\n",
      " [ 1  1 -1  1  1 -1 -1 -1  1  1 -1  1  1 -1 -1 -1  1  1  1  1]\n",
      " [-1 -1  1 -1  1 -1 -1 -1  1 -1  1 -1 -1  1  1  1 -1  1  1  1]\n",
      " [ 1 -1  1 -1  1 -1  1  1  1  1 -1 -1 -1 -1  1 -1 -1 -1  1 -1]\n",
      " [-1 -1 -1 -1 -1 -1  1 -1 -1 -1 -1 -1 -1  1 -1  1  1 -1  1 -1]\n",
      " [-1 -1 -1  1 -1 -1 -1  1  1  1 -1  1 -1  1 -1  1  1 -1  1  1]\n",
      " [ 1 -1  1  1  1  1 -1  1  1 -1 -1  1  1  1  1  1 -1  1  1  1]\n",
      " [-1  1 -1 -1 -1 -1  1 -1 -1  1 -1 -1  1 -1 -1  1  1  1  1 -1]]\n"
     ]
    }
   ],
   "source": [
    "# Initialize the grid\n",
    "grid = np.zeros((N, N), int)\n",
    "\n",
    "for i in range(N):\n",
    "    for j in range(N):\n",
    "        # assign a random +1 or -1 sping\n",
    "        grid[i][j] = 2*randint(0,1) - 1 \n",
    "        \n",
    "print(grid)"
   ]
  },
  {
   "cell_type": "code",
   "execution_count": 15,
   "metadata": {
    "collapsed": true
   },
   "outputs": [],
   "source": [
    "def new_spin(some_grid, beta, i, j):\n",
    "    \"\"\"\n",
    "    Takes the grid and the temperature,\n",
    "    runs Metropolis algorithm to give the\n",
    "    updated value of the (i,j) element.\n",
    "    \"\"\"\n",
    "    spin = some_grid[i,j]\n",
    "    spin_flip = -spin\n",
    "\n",
    "##  TESTING\n",
    "    print(i)\n",
    "    print(j)\n",
    "    print(\"spin is:\") \n",
    "    print(some_grid[i,j])\n",
    "\n",
    "    \n",
    "#   Periodic boundary conditions\n",
    "    net_neighbor_spin = \\\n",
    "        some_grid[(i+1)%N,j] + \\\n",
    "        some_grid[(i-1)%N,j] + \\\n",
    "        some_grid[i,(j+1)%N] + \\\n",
    "        some_grid[i,(j-1)%N]\n",
    "        \n",
    "    deltaE = -spin_flip*net_neighbor_spin/4 - \\\n",
    "             (-spin*net_neighbor_spin/4)\n",
    "##  TESTING\n",
    "    print(\"deltaE is\")\n",
    "    print(deltaE)\n",
    "        \n",
    "    if deltaE < 0:\n",
    "        print(\"lower E, flipped\")\n",
    "        return -spin\n",
    "    \n",
    "    else:\n",
    "        if random() < np.exp(beta*deltaE):\n",
    "            print(\"lucky roll, flipped\")\n",
    "            return -spin\n",
    "        else:\n",
    "            print(\"no flip\")\n",
    "            return spin\n",
    "\n",
    "# print(grid)\n",
    "# print(new_spin(grid,1,1,2))"
   ]
  },
  {
   "cell_type": "code",
   "execution_count": 16,
   "metadata": {
    "collapsed": true
   },
   "outputs": [],
   "source": [
    "# DEFINE QUIET VERSION\n",
    "def new_spin_quiet(some_grid, beta, i, j):\n",
    "    \"\"\"\n",
    "    Takes the grid and the temperature,\n",
    "    runs Metropolis algorithm to give the\n",
    "    updated value of the (i,j) element.\n",
    "    \"\"\"\n",
    "    spin = some_grid[i,j]\n",
    "    spin_flip = -spin\n",
    "\n",
    "# ##  TESTING\n",
    "#     print(i)\n",
    "#     print(j)\n",
    "#     print(\"spin is:\") \n",
    "#     print(some_grid[i,j])\n",
    "\n",
    "    \n",
    "#   Periodic boundary conditions\n",
    "    net_neighbor_spin = \\\n",
    "        some_grid[(i+1)%N,j] + \\\n",
    "        some_grid[(i-1)%N,j] + \\\n",
    "        some_grid[i,(j+1)%N] + \\\n",
    "        some_grid[i,(j-1)%N]\n",
    "        \n",
    "    deltaE = -spin_flip*net_neighbor_spin/4 - \\\n",
    "             (-spin*net_neighbor_spin/4)\n",
    "# ##  TESTING\n",
    "#     print(\"deltaE is\")\n",
    "#     print(deltaE)\n",
    "        \n",
    "    if deltaE < 0:\n",
    "#         print(\"lower E, flipped\")\n",
    "        return -spin\n",
    "    \n",
    "    else:\n",
    "        if random() < np.exp(beta*deltaE):\n",
    "#             print(\"lucky roll, flipped\")\n",
    "            return -spin\n",
    "        else:\n",
    "#             print(\"no flip\")\n",
    "            return spin"
   ]
  },
  {
   "cell_type": "code",
   "execution_count": 17,
   "metadata": {
    "collapsed": false
   },
   "outputs": [
    {
     "name": "stdout",
     "output_type": "stream",
     "text": [
      "[[ 1 -1 -1 -1 -1 -1 -1  1 -1 -1  1  1 -1  1  1  1 -1  1  1  1]\n",
      " [ 1 -1  1 -1 -1 -1  1  1 -1 -1  1 -1 -1 -1  1  1  1  1  1  1]\n",
      " [-1  1 -1  1 -1  1 -1 -1  1  1 -1 -1  1 -1 -1  1 -1 -1  1  1]\n",
      " [ 1  1  1 -1  1  1  1  1 -1 -1 -1 -1 -1  1 -1 -1 -1  1  1 -1]\n",
      " [-1 -1  1  1 -1 -1 -1 -1  1 -1 -1 -1 -1  1  1 -1 -1 -1 -1 -1]\n",
      " [-1 -1 -1  1 -1  1  1 -1 -1  1 -1 -1  1  1  1  1  1  1 -1 -1]\n",
      " [ 1 -1  1  1  1  1  1 -1  1 -1 -1  1 -1 -1 -1  1 -1 -1  1  1]\n",
      " [-1  1  1 -1  1  1 -1  1 -1  1  1  1  1 -1  1  1  1 -1 -1 -1]\n",
      " [-1 -1 -1 -1  1  1 -1  1 -1  1  1  1 -1 -1 -1 -1  1  1 -1  1]\n",
      " [ 1  1 -1  1 -1  1 -1  1  1 -1  1 -1 -1 -1 -1 -1  1 -1  1  1]\n",
      " [ 1  1 -1  1 -1 -1  1  1 -1  1 -1 -1  1  1 -1  1 -1 -1 -1  1]\n",
      " [ 1 -1  1  1  1  1 -1 -1 -1  1 -1 -1 -1  1 -1 -1 -1 -1 -1  1]\n",
      " [-1  1 -1  1 -1 -1 -1  1 -1 -1  1  1  1 -1  1 -1  1  1 -1  1]\n",
      " [ 1  1 -1  1  1 -1 -1 -1  1  1 -1  1  1 -1 -1 -1  1  1  1  1]\n",
      " [-1 -1  1 -1  1 -1 -1 -1  1 -1  1 -1 -1  1  1  1 -1  1  1  1]\n",
      " [ 1 -1  1 -1  1 -1  1  1  1  1 -1 -1 -1 -1  1 -1 -1 -1  1 -1]\n",
      " [-1 -1 -1 -1 -1 -1  1 -1 -1 -1 -1 -1 -1  1 -1  1  1 -1  1 -1]\n",
      " [-1 -1 -1  1 -1 -1 -1  1  1  1 -1  1 -1  1 -1  1  1 -1  1  1]\n",
      " [ 1 -1  1  1  1  1 -1  1  1 -1 -1  1  1  1  1  1 -1  1  1  1]\n",
      " [-1  1 -1 -1 -1 -1  1 -1 -1  1 -1 -1  1 -1 -1  1  1  1  1 -1]]\n",
      "[[ 1 -1 -1 -1 -1 -1 -1  1 -1 -1  1  1 -1  1  1  1 -1  1  1  1]\n",
      " [ 1 -1  1 -1 -1 -1  1  1 -1 -1  1 -1 -1 -1  1  1  1  1  1  1]\n",
      " [-1  1 -1  1 -1  1 -1 -1  1  1 -1 -1  1 -1 -1  1 -1 -1  1  1]\n",
      " [ 1  1  1 -1  1  1  1  1 -1 -1 -1 -1 -1  1 -1 -1 -1  1  1 -1]\n",
      " [-1 -1  1  1 -1 -1 -1 -1  1 -1 -1 -1 -1  1  1 -1 -1 -1 -1 -1]\n",
      " [-1 -1 -1  1 -1  1  1 -1 -1  1 -1 -1  1  1  1  1  1  1 -1 -1]\n",
      " [ 1 -1  1  1  1  1  1 -1  1 -1 -1  1 -1 -1 -1  1 -1 -1  1  1]\n",
      " [-1  1  1 -1  1  1 -1  1 -1  1  1  1  1 -1  1  1  1 -1 -1 -1]\n",
      " [-1 -1 -1 -1  1  1 -1  1 -1  1  1  1 -1 -1 -1 -1  1  1 -1  1]\n",
      " [ 1  1 -1  1 -1  1 -1  1  1 -1  1 -1 -1 -1 -1 -1  1 -1  1  1]\n",
      " [ 1  1 -1  1 -1 -1  1  1 -1  1 -1 -1  1  1 -1  1 -1 -1 -1  1]\n",
      " [ 1 -1  1  1  1  1 -1 -1 -1  1 -1 -1 -1  1 -1 -1 -1 -1 -1  1]\n",
      " [-1  1 -1  1 -1 -1 -1  1 -1 -1  1  1  1 -1  1 -1  1  1 -1  1]\n",
      " [ 1  1 -1  1  1 -1 -1 -1  1  1 -1  1  1 -1 -1 -1  1  1  1  1]\n",
      " [-1 -1  1 -1  1 -1  1 -1  1 -1  1 -1 -1  1  1  1 -1  1  1  1]\n",
      " [ 1 -1  1 -1  1 -1  1  1  1  1 -1 -1 -1 -1  1 -1 -1 -1  1 -1]\n",
      " [-1 -1 -1 -1 -1 -1  1 -1 -1 -1 -1 -1 -1  1 -1  1  1 -1  1 -1]\n",
      " [-1 -1 -1  1 -1 -1 -1  1  1  1 -1  1 -1  1 -1  1  1 -1  1  1]\n",
      " [ 1 -1  1  1  1  1 -1  1  1 -1 -1  1  1  1  1  1 -1  1  1  1]\n",
      " [-1  1 -1 -1 -1 -1  1 -1 -1  1 -1 -1  1 -1 -1  1  1  1  1 -1]]\n"
     ]
    }
   ],
   "source": [
    "def grid_update(some_grid, beta):\n",
    "    i = randint(0,N-1)\n",
    "    j = randint(0,N-1)\n",
    "#     new_grid = some_grid\n",
    "#     new_grid[i,j] = new_spin(some_grid, beta, i, j)\n",
    "#     return new_grid\n",
    "    some_grid[i,j] = new_spin_quiet(some_grid, beta, i, j)\n",
    "\n",
    "print(grid)\n",
    "grid_update(grid,1)\n",
    "print(grid)"
   ]
  },
  {
   "cell_type": "code",
   "execution_count": 18,
   "metadata": {
    "collapsed": false
   },
   "outputs": [],
   "source": [
    "def total_magnetization(grid):\n",
    "    total_magnetization = 0\n",
    "    i = 0\n",
    "    j = 0\n",
    "    for i in range(N):\n",
    "        for j in range(N):\n",
    "            total_magnetization = total_magnetization + grid[i][j]\n",
    "    return total_magnetization\n",
    "\n",
    "def total_energy(grid):\n",
    "    total_energy = 0\n",
    "    i = 0\n",
    "    j = 0\n",
    "    for i in range(N):\n",
    "        for j in range(N):\n",
    "            total_energy = total_energy + (grid[(i+1)%N,j] + \\\n",
    "        grid[(i-1)%N,j] + \\\n",
    "        grid[i,(j+1)%N] + \\\n",
    "        grid[i,(j-1)%N])\n",
    "    return total_energy\n",
    "\n",
    "def random_grid(N):\n",
    "    for i in range(N):\n",
    "        for j in range(N):\n",
    "        # assign a random +1 or -1 sping\n",
    "            grid[i][j] = 2*randint(0,1) - 1 \n",
    "    return grid\n",
    "\n",
    "def sum_array(array):\n",
    "    sum_array = 0\n",
    "    for i in range(len(array)):\n",
    "        sum_array = sum_array + array[i]\n",
    "    \n",
    "    return sum_array\n",
    "        \n",
    "        "
   ]
  },
  {
   "cell_type": "code",
   "execution_count": null,
   "metadata": {
    "collapsed": false
   },
   "outputs": [],
   "source": []
  },
  {
   "cell_type": "code",
   "execution_count": 21,
   "metadata": {
    "collapsed": false
   },
   "outputs": [
    {
     "data": {
      "image/png": "[encoded data removed]",
      "text/plain": [
       "<matplotlib.figure.Figure at 0x117bf0400>"
      ]
     },
     "metadata": {},
     "output_type": "display_data"
    },
    {
     "data": {
      "image/png": "[encoded data removed]",
      "text/plain": [
       "<matplotlib.figure.Figure at 0x10f6f2978>"
      ]
     },
     "metadata": {},
     "output_type": "display_data"
    }
   ],
   "source": [
    "record = []\n",
    "N_samples = 20\n",
    "Temp = np.linspace(1, 4, 20) \n",
    "Magnetization = []\n",
    "Energy = []\n",
    "#grid = np.zeros((N, N), int)\n",
    "grid = random_grid(N)\n",
    "AverageMagnetization = []\n",
    "AverageEnergy = []\n",
    "\n",
    "for b in range(N_samples):\n",
    "    #grid = random_grid(N)\n",
    "    Magnetization = []\n",
    "    Energy = []\n",
    "    for a in range(N_trials):\n",
    "        record.append(np.array(grid))\n",
    "        # Note: the np.array(...) is important,\n",
    "        #  this assigns a value rather than a reference.\n",
    "        #  If you just did record.append(grid), you \n",
    "        #  append a reference to the current value of \"grid\"\n",
    "        #  ... this gets updated, and so every element of record gets updated\n",
    "        grid_update(grid,1/Temp[b])\n",
    "        #plt.imshow(grid)\n",
    "        #plt.show()\n",
    "        Magnetization.append(total_magnetization(grid))\n",
    "        Energy.append(total_energy(grid))\n",
    "    AverageMagnetization.append(sum_array(Magnetization)/N_trials)\n",
    "    AverageEnergy.append(sum_array(Energy)/N_trials)\n",
    "\n",
    "plt.plot(Temp, Magnetization)\n",
    "plt.show()\n",
    "plt.plot(Temp, Energy)\n",
    "plt.show()\n",
    "\n",
    "    \n",
    "#for a in range(N_trials):\n",
    "    #plt.imshow(record[a])\n",
    "    #plt.show()"
   ]
  },
  {
   "cell_type": "code",
   "execution_count": null,
   "metadata": {
    "collapsed": true
   },
   "outputs": [],
   "source": []
  },
  {
   "cell_type": "code",
   "execution_count": null,
   "metadata": {
    "collapsed": true
   },
   "outputs": [],
   "source": []
  }
 ],
 "metadata": {
  "kernelspec": {
   "display_name": "Python 3",
   "language": "python",
   "name": "python3"
  },
  "language_info": {
   "codemirror_mode": {
    "name": "ipython",
    "version": 3
   },
   "file_extension": ".py",
   "mimetype": "text/x-python",
   "name": "python",
   "nbconvert_exporter": "python",
   "pygments_lexer": "ipython3",
   "version": "3.6.0"
  }
 },
 "nbformat": 4,
 "nbformat_minor": 2
}
